{
  "nbformat": 4,
  "nbformat_minor": 0,
  "metadata": {
    "colab": {
      "provenance": [],
      "mount_file_id": "1kFg1Ez7_E-nLXjG9u2j93DKCXOdf79Tq",
      "authorship_tag": "ABX9TyO94ddS+iyqFdbl88ChZvcA",
      "include_colab_link": true
    },
    "kernelspec": {
      "name": "python3",
      "display_name": "Python 3"
    },
    "language_info": {
      "name": "python"
    }
  },
  "cells": [
    {
      "cell_type": "markdown",
      "metadata": {
        "id": "view-in-github",
        "colab_type": "text"
      },
      "source": [
        "<a href=\"https://colab.research.google.com/github/Aliksm-DataScientist/MultiModal_Text_Img/blob/main/MultiModal.ipynb\" target=\"_parent\"><img src=\"https://colab.research.google.com/assets/colab-badge.svg\" alt=\"Open In Colab\"/></a>"
      ]
    },
    {
      "cell_type": "code",
      "source": [
        "!pip install groq"
      ],
      "metadata": {
        "colab": {
          "base_uri": "https://localhost:8080/"
        },
        "id": "M1gaN3DtoQcl",
        "outputId": "116d672b-f411-4d75-bd20-ce0b5ad089b9"
      },
      "execution_count": 2,
      "outputs": [
        {
          "output_type": "stream",
          "name": "stdout",
          "text": [
            "Collecting groq\n",
            "  Downloading groq-0.15.0-py3-none-any.whl.metadata (14 kB)\n",
            "Requirement already satisfied: anyio<5,>=3.5.0 in /usr/local/lib/python3.11/dist-packages (from groq) (3.7.1)\n",
            "Requirement already satisfied: distro<2,>=1.7.0 in /usr/local/lib/python3.11/dist-packages (from groq) (1.9.0)\n",
            "Requirement already satisfied: httpx<1,>=0.23.0 in /usr/local/lib/python3.11/dist-packages (from groq) (0.28.1)\n",
            "Requirement already satisfied: pydantic<3,>=1.9.0 in /usr/local/lib/python3.11/dist-packages (from groq) (2.10.5)\n",
            "Requirement already satisfied: sniffio in /usr/local/lib/python3.11/dist-packages (from groq) (1.3.1)\n",
            "Requirement already satisfied: typing-extensions<5,>=4.10 in /usr/local/lib/python3.11/dist-packages (from groq) (4.12.2)\n",
            "Requirement already satisfied: idna>=2.8 in /usr/local/lib/python3.11/dist-packages (from anyio<5,>=3.5.0->groq) (3.10)\n",
            "Requirement already satisfied: certifi in /usr/local/lib/python3.11/dist-packages (from httpx<1,>=0.23.0->groq) (2024.12.14)\n",
            "Requirement already satisfied: httpcore==1.* in /usr/local/lib/python3.11/dist-packages (from httpx<1,>=0.23.0->groq) (1.0.7)\n",
            "Requirement already satisfied: h11<0.15,>=0.13 in /usr/local/lib/python3.11/dist-packages (from httpcore==1.*->httpx<1,>=0.23.0->groq) (0.14.0)\n",
            "Requirement already satisfied: annotated-types>=0.6.0 in /usr/local/lib/python3.11/dist-packages (from pydantic<3,>=1.9.0->groq) (0.7.0)\n",
            "Requirement already satisfied: pydantic-core==2.27.2 in /usr/local/lib/python3.11/dist-packages (from pydantic<3,>=1.9.0->groq) (2.27.2)\n",
            "Downloading groq-0.15.0-py3-none-any.whl (109 kB)\n",
            "\u001b[2K   \u001b[90m━━━━━━━━━━━━━━━━━━━━━━━━━━━━━━━━━━━━━━━━\u001b[0m \u001b[32m109.6/109.6 kB\u001b[0m \u001b[31m4.7 MB/s\u001b[0m eta \u001b[36m0:00:00\u001b[0m\n",
            "\u001b[?25hInstalling collected packages: groq\n",
            "Successfully installed groq-0.15.0\n"
          ]
        }
      ]
    },
    {
      "cell_type": "markdown",
      "source": [
        "Reference_Url: 'https://console.groq.com/docs/vision'"
      ],
      "metadata": {
        "id": "snrLCZAFpM9U"
      }
    },
    {
      "cell_type": "code",
      "execution_count": 4,
      "metadata": {
        "colab": {
          "base_uri": "https://localhost:8080/"
        },
        "id": "GAFALhhJnEVt",
        "outputId": "ddd3d3e1-0bd6-496a-b2db-6c0d9fd20ed8"
      },
      "outputs": [
        {
          "output_type": "stream",
          "name": "stdout",
          "text": [
            "ChatCompletionMessage(content=\"The region depicted in the image appears to be San Francisco, California, known for its iconic Golden Gate Bridge, which connects the city to Marin County. The city's skyline, featuring notable landmarks like the Transamerica Pyramid and the Salesforce Tower, is also visible. San Francisco is renowned for its diverse neighborhoods, including Fisherman's Wharf, Chinatown, and Haight-Ashbury, each offering a unique blend of culture, history, and entertainment. The city is also famous for its vibrant arts and cultural scene, with numerous museums, galleries, and performance venues. Furthermore, San Francisco is home to Golden Gate Park, a sprawling urban park that offers scenic natural beauty and recreational opportunities. Overall, the area depicted in the image showcases the essence of San Francisco's blend of natural beauty, cultural richness, and urban vitality.\", role='assistant', function_call=None, tool_calls=None)\n"
          ]
        }
      ],
      "source": [
        "from groq import Groq\n",
        "api_key = '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'\n",
        "client = Groq(api_key=api_key)\n",
        "completion = client.chat.completions.create(\n",
        "    model=\"llama-3.2-11b-vision-preview\",\n",
        "    messages=[\n",
        "        {\n",
        "            \"role\": \"user\",\n",
        "            \"content\": [\n",
        "                {\n",
        "                    \"type\": \"text\",\n",
        "                    \"text\": \"What is in this image?\"\n",
        "                },\n",
        "                {\n",
        "                    \"type\": \"image_url\",\n",
        "                    \"image_url\": {\n",
        "                        \"url\": \"https://upload.wikimedia.org/wikipedia/commons/d/da/SF_From_Marin_Highlands3.jpg\"\n",
        "                    }\n",
        "                }\n",
        "            ]\n",
        "        },\n",
        "        {\n",
        "            \"role\": \"user\",\n",
        "            \"content\": \"Tell me more about the area.\"\n",
        "        }\n",
        "    ],\n",
        "    temperature=1,\n",
        "    max_completion_tokens=1024,\n",
        "    top_p=1,\n",
        "    stream=False,\n",
        "    stop=None,\n",
        ")\n",
        "\n",
        "print(completion.choices[0].message)"
      ]
    },
    {
      "cell_type": "markdown",
      "source": [
        "**Another way writing the same above code**"
      ],
      "metadata": {
        "id": "sn_Upf4erB57"
      }
    },
    {
      "cell_type": "code",
      "source": [
        "client = Groq(api_key=api_key)\n",
        "\n",
        "messages = [\n",
        "    {\n",
        "        \"role\": \"user\",\n",
        "        \"content\": [\n",
        "            {\n",
        "                \"type\": \"text\",\n",
        "                \"text\": \"What is in this image?\"\n",
        "            },\n",
        "            {\n",
        "                \"type\": \"image_url\",\n",
        "                \"image_url\": {\n",
        "                    \"url\": \"https://upload.wikimedia.org/wikipedia/commons/d/da/SF_From_Marin_Highlands3.jpg\"\n",
        "                }\n",
        "            }\n",
        "        ]\n",
        "    },\n",
        "    {\n",
        "        \"role\": \"user\",\n",
        "        \"content\": \"Tell me more about the area.\"\n",
        "    }\n",
        "]\n",
        "\n",
        "request_payload = {\n",
        "    \"model\": \"llama-3.2-11b-vision-preview\",\n",
        "    \"messages\": messages,\n",
        "    \"temperature\": 1,\n",
        "    \"max_completion_tokens\": 1024,\n",
        "    \"top_p\": 1,\n",
        "    \"stream\": False,\n",
        "    \"stop\": None,\n",
        "}\n",
        "\n",
        "completion = client.chat.completions.create(**request_payload)\n",
        "\n",
        "print(completion.choices[0].message)\n"
      ],
      "metadata": {
        "colab": {
          "base_uri": "https://localhost:8080/"
        },
        "id": "zWiY2zaJnu6I",
        "outputId": "b8df0219-86da-4829-b7b5-c169d8ce96cc"
      },
      "execution_count": 5,
      "outputs": [
        {
          "output_type": "stream",
          "name": "stdout",
          "text": [
            "ChatCompletionMessage(content=\"The Golden Gate Bridge is a suspension bridge situated in San Francisco, California. This bridge is renowned for its engineering and aesthetics, having been designated as a National Historic Mechanical Engineering Landmark and a National Historic Civil Engineering Landmark. The Golden Gate played a pivotal role in the 1962 Marin County Civic Center redesign. It was demolished and reconstructed with a more modern design when it was found unsafe for habitation or public use. The Golden Gate Rehabilitation and Replacement Project, initiated to repair the original 'Golden Gate Bridge,' had aimed for completion by 2029.\", role='assistant', function_call=None, tool_calls=None)\n"
          ]
        }
      ]
    },
    {
      "cell_type": "code",
      "source": [
        "print(completion)"
      ],
      "metadata": {
        "colab": {
          "base_uri": "https://localhost:8080/"
        },
        "id": "ivxDsUqRq_9r",
        "outputId": "89a2b241-b036-41ad-95c0-bb96c3bb8d08"
      },
      "execution_count": 6,
      "outputs": [
        {
          "output_type": "stream",
          "name": "stdout",
          "text": [
            "ChatCompletion(id='chatcmpl-a446a032-c156-4303-be6d-e9b4b81bfbbe', choices=[Choice(finish_reason='stop', index=0, logprobs=None, message=ChatCompletionMessage(content=\"The Golden Gate Bridge is a suspension bridge situated in San Francisco, California. This bridge is renowned for its engineering and aesthetics, having been designated as a National Historic Mechanical Engineering Landmark and a National Historic Civil Engineering Landmark. The Golden Gate played a pivotal role in the 1962 Marin County Civic Center redesign. It was demolished and reconstructed with a more modern design when it was found unsafe for habitation or public use. The Golden Gate Rehabilitation and Replacement Project, initiated to repair the original 'Golden Gate Bridge,' had aimed for completion by 2029.\", role='assistant', function_call=None, tool_calls=None))], created=1737157851, model='llama-3.2-11b-vision-preview', object='chat.completion', system_fingerprint='fp_fa3d3d25b0', usage=CompletionUsage(completion_tokens=113, prompt_tokens=29, total_tokens=142, completion_time=0.161078203, prompt_time=0.001186774, queue_time=0.669472343, total_time=0.162264977), x_groq={'id': 'req_01jhvatd80fwqby4d3g5r9yvm0'})\n"
          ]
        }
      ]
    },
    {
      "cell_type": "code",
      "source": [
        "print(completion.choices[0].message.content)"
      ],
      "metadata": {
        "colab": {
          "base_uri": "https://localhost:8080/"
        },
        "id": "g71iGbb7r_9_",
        "outputId": "feb79ea6-26ea-40fe-dc18-2d7d8cafc190"
      },
      "execution_count": 7,
      "outputs": [
        {
          "output_type": "stream",
          "name": "stdout",
          "text": [
            "The Golden Gate Bridge is a suspension bridge situated in San Francisco, California. This bridge is renowned for its engineering and aesthetics, having been designated as a National Historic Mechanical Engineering Landmark and a National Historic Civil Engineering Landmark. The Golden Gate played a pivotal role in the 1962 Marin County Civic Center redesign. It was demolished and reconstructed with a more modern design when it was found unsafe for habitation or public use. The Golden Gate Rehabilitation and Replacement Project, initiated to repair the original 'Golden Gate Bridge,' had aimed for completion by 2029.\n"
          ]
        }
      ]
    },
    {
      "cell_type": "markdown",
      "source": [
        "**Convert local image to base64**"
      ],
      "metadata": {
        "id": "AARJiZXI5oT3"
      }
    },
    {
      "cell_type": "code",
      "source": [
        "from groq import Groq\n",
        "import base64\n",
        "\n",
        "\n",
        "# Function to encode the image\n",
        "def encode_image(image_path):\n",
        "  with open(image_path, \"rb\") as image_file:\n",
        "    return base64.b64encode(image_file.read()).decode('utf-8')\n",
        "\n",
        "# Path to your image\n",
        "image_path = \"sf.jpg\"\n",
        "\n",
        "# Getting the base64 string\n",
        "base64_image = encode_image('/content/drive/MyDrive/Colab Notebooks/Mask_Files/00000_Mask.jpg')\n",
        "\n",
        "chat_completion = client.chat.completions.create(\n",
        "    messages=[\n",
        "        {\n",
        "            \"role\": \"user\",\n",
        "            \"content\": [\n",
        "                {\"type\": \"text\", \"text\": \"What's in this image?\"},\n",
        "                {\n",
        "                    \"type\": \"image_url\",\n",
        "                    \"image_url\": {\n",
        "                        \"url\": f\"data:image/jpeg;base64,{base64_image}\",\n",
        "                    },\n",
        "                },\n",
        "            ],\n",
        "        }\n",
        "    ],\n",
        "    model=\"llama-3.2-11b-vision-preview\",\n",
        ")\n",
        "\n",
        "print(chat_completion.choices[0].message.content)"
      ],
      "metadata": {
        "colab": {
          "base_uri": "https://localhost:8080/"
        },
        "id": "9ZghrfwAsSw0",
        "outputId": "98294c03-138d-4f75-cd41-a4798cd228df"
      },
      "execution_count": 20,
      "outputs": [
        {
          "output_type": "stream",
          "name": "stdout",
          "text": [
            "The image shows a baby wearing a face mask. The baby is lying on a blue surface, possibly a couch or a chair, and is wearing a light blue face mask that covers the lower half of their face. The baby has dark eyes and short, dark hair. They are wearing a yellow and white striped shirt with a green hood. The background of the image is a solid blue color, with some light coming in from the right side of the frame.\n"
          ]
        }
      ]
    },
    {
      "cell_type": "code",
      "source": [],
      "metadata": {
        "id": "3h6s2GrQxWr6"
      },
      "execution_count": null,
      "outputs": []
    }
  ]
}