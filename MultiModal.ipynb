{
  "nbformat": 4,
  "nbformat_minor": 0,
  "metadata": {
    "colab": {
      "provenance": [],
      "authorship_tag": "ABX9TyMGT81v28CKguAbsQPcjthr",
      "include_colab_link": true
    },
    "kernelspec": {
      "name": "python3",
      "display_name": "Python 3"
    },
    "language_info": {
      "name": "python"
    }
  },
  "cells": [
    {
      "cell_type": "markdown",
      "metadata": {
        "id": "view-in-github",
        "colab_type": "text"
      },
      "source": [
        "<a href=\"https://colab.research.google.com/github/Aliksm-DataScientist/MultiModal_Text_Img/blob/main/MultiModal.ipynb\" target=\"_parent\"><img src=\"https://colab.research.google.com/assets/colab-badge.svg\" alt=\"Open In Colab\"/></a>"
      ]
    },
    {
      "cell_type": "code",
      "source": [
        "!pip install groq"
      ],
      "metadata": {
        "colab": {
          "base_uri": "https://localhost:8080/"
        },
        "id": "M1gaN3DtoQcl",
        "outputId": "116d672b-f411-4d75-bd20-ce0b5ad089b9"
      },
      "execution_count": 2,
      "outputs": [
        {
          "output_type": "stream",
          "name": "stdout",
          "text": [
            "Collecting groq\n",
            "  Downloading groq-0.15.0-py3-none-any.whl.metadata (14 kB)\n",
            "Requirement already satisfied: anyio<5,>=3.5.0 in /usr/local/lib/python3.11/dist-packages (from groq) (3.7.1)\n",
            "Requirement already satisfied: distro<2,>=1.7.0 in /usr/local/lib/python3.11/dist-packages (from groq) (1.9.0)\n",
            "Requirement already satisfied: httpx<1,>=0.23.0 in /usr/local/lib/python3.11/dist-packages (from groq) (0.28.1)\n",
            "Requirement already satisfied: pydantic<3,>=1.9.0 in /usr/local/lib/python3.11/dist-packages (from groq) (2.10.5)\n",
            "Requirement already satisfied: sniffio in /usr/local/lib/python3.11/dist-packages (from groq) (1.3.1)\n",
            "Requirement already satisfied: typing-extensions<5,>=4.10 in /usr/local/lib/python3.11/dist-packages (from groq) (4.12.2)\n",
            "Requirement already satisfied: idna>=2.8 in /usr/local/lib/python3.11/dist-packages (from anyio<5,>=3.5.0->groq) (3.10)\n",
            "Requirement already satisfied: certifi in /usr/local/lib/python3.11/dist-packages (from httpx<1,>=0.23.0->groq) (2024.12.14)\n",
            "Requirement already satisfied: httpcore==1.* in /usr/local/lib/python3.11/dist-packages (from httpx<1,>=0.23.0->groq) (1.0.7)\n",
            "Requirement already satisfied: h11<0.15,>=0.13 in /usr/local/lib/python3.11/dist-packages (from httpcore==1.*->httpx<1,>=0.23.0->groq) (0.14.0)\n",
            "Requirement already satisfied: annotated-types>=0.6.0 in /usr/local/lib/python3.11/dist-packages (from pydantic<3,>=1.9.0->groq) (0.7.0)\n",
            "Requirement already satisfied: pydantic-core==2.27.2 in /usr/local/lib/python3.11/dist-packages (from pydantic<3,>=1.9.0->groq) (2.27.2)\n",
            "Downloading groq-0.15.0-py3-none-any.whl (109 kB)\n",
            "\u001b[2K   \u001b[90m━━━━━━━━━━━━━━━━━━━━━━━━━━━━━━━━━━━━━━━━\u001b[0m \u001b[32m109.6/109.6 kB\u001b[0m \u001b[31m4.7 MB/s\u001b[0m eta \u001b[36m0:00:00\u001b[0m\n",
            "\u001b[?25hInstalling collected packages: groq\n",
            "Successfully installed groq-0.15.0\n"
          ]
        }
      ]
    },
    {
      "cell_type": "markdown",
      "source": [
        "Reference_Url: 'https://console.groq.com/docs/vision'"
      ],
      "metadata": {
        "id": "snrLCZAFpM9U"
      }
    },
    {
      "cell_type": "code",
      "execution_count": 4,
      "metadata": {
        "colab": {
          "base_uri": "https://localhost:8080/"
        },
        "id": "GAFALhhJnEVt",
        "outputId": "ddd3d3e1-0bd6-496a-b2db-6c0d9fd20ed8"
      },
      "outputs": [
        {
          "output_type": "stream",
          "name": "stdout",
          "text": [
            "ChatCompletionMessage(content=\"The region depicted in the image appears to be San Francisco, California, known for its iconic Golden Gate Bridge, which connects the city to Marin County. The city's skyline, featuring notable landmarks like the Transamerica Pyramid and the Salesforce Tower, is also visible. San Francisco is renowned for its diverse neighborhoods, including Fisherman's Wharf, Chinatown, and Haight-Ashbury, each offering a unique blend of culture, history, and entertainment. The city is also famous for its vibrant arts and cultural scene, with numerous museums, galleries, and performance venues. Furthermore, San Francisco is home to Golden Gate Park, a sprawling urban park that offers scenic natural beauty and recreational opportunities. Overall, the area depicted in the image showcases the essence of San Francisco's blend of natural beauty, cultural richness, and urban vitality.\", role='assistant', function_call=None, tool_calls=None)\n"
          ]
        }
      ],
      "source": [
        "from groq import Groq\n",
        "api_key = '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'\n",
        "client = Groq(api_key=api_key)\n",
        "completion = client.chat.completions.create(\n",
        "    model=\"llama-3.2-11b-vision-preview\",\n",
        "    messages=[\n",
        "        {\n",
        "            \"role\": \"user\",\n",
        "            \"content\": [\n",
        "                {\n",
        "                    \"type\": \"text\",\n",
        "                    \"text\": \"What is in this image?\"\n",
        "                },\n",
        "                {\n",
        "                    \"type\": \"image_url\",\n",
        "                    \"image_url\": {\n",
        "                        \"url\": \"https://upload.wikimedia.org/wikipedia/commons/d/da/SF_From_Marin_Highlands3.jpg\"\n",
        "                    }\n",
        "                }\n",
        "            ]\n",
        "        },\n",
        "        {\n",
        "            \"role\": \"user\",\n",
        "            \"content\": \"Tell me more about the area.\"\n",
        "        }\n",
        "    ],\n",
        "    temperature=1,\n",
        "    max_completion_tokens=1024,\n",
        "    top_p=1,\n",
        "    stream=False,\n",
        "    stop=None,\n",
        ")\n",
        "\n",
        "print(completion.choices[0].message)"
      ]
    },
    {
      "cell_type": "markdown",
      "source": [
        "**Another way writing the same above code**"
      ],
      "metadata": {
        "id": "sn_Upf4erB57"
      }
    },
    {
      "cell_type": "code",
      "source": [
        "client = Groq(api_key=api_key)\n",
        "\n",
        "messages = [\n",
        "    {\n",
        "        \"role\": \"user\",\n",
        "        \"content\": [\n",
        "            {\n",
        "                \"type\": \"text\",\n",
        "                \"text\": \"What is in this image?\"\n",
        "            },\n",
        "            {\n",
        "                \"type\": \"image_url\",\n",
        "                \"image_url\": {\n",
        "                    \"url\": \"https://upload.wikimedia.org/wikipedia/commons/d/da/SF_From_Marin_Highlands3.jpg\"\n",
        "                }\n",
        "            }\n",
        "        ]\n",
        "    },\n",
        "    {\n",
        "        \"role\": \"user\",\n",
        "        \"content\": \"Tell me more about the area.\"\n",
        "    }\n",
        "]\n",
        "\n",
        "request_payload = {\n",
        "    \"model\": \"llama-3.2-11b-vision-preview\",\n",
        "    \"messages\": messages,\n",
        "    \"temperature\": 1,\n",
        "    \"max_completion_tokens\": 1024,\n",
        "    \"top_p\": 1,\n",
        "    \"stream\": False,\n",
        "    \"stop\": None,\n",
        "}\n",
        "\n",
        "completion = client.chat.completions.create(**request_payload)\n",
        "\n",
        "print(completion.choices[0].message)\n"
      ],
      "metadata": {
        "colab": {
          "base_uri": "https://localhost:8080/"
        },
        "id": "zWiY2zaJnu6I",
        "outputId": "b8df0219-86da-4829-b7b5-c169d8ce96cc"
      },
      "execution_count": 5,
      "outputs": [
        {
          "output_type": "stream",
          "name": "stdout",
          "text": [
            "ChatCompletionMessage(content=\"The Golden Gate Bridge is a suspension bridge situated in San Francisco, California. This bridge is renowned for its engineering and aesthetics, having been designated as a National Historic Mechanical Engineering Landmark and a National Historic Civil Engineering Landmark. The Golden Gate played a pivotal role in the 1962 Marin County Civic Center redesign. It was demolished and reconstructed with a more modern design when it was found unsafe for habitation or public use. The Golden Gate Rehabilitation and Replacement Project, initiated to repair the original 'Golden Gate Bridge,' had aimed for completion by 2029.\", role='assistant', function_call=None, tool_calls=None)\n"
          ]
        }
      ]
    },
    {
      "cell_type": "code",
      "source": [],
      "metadata": {
        "id": "ivxDsUqRq_9r"
      },
      "execution_count": null,
      "outputs": []
    }
  ]
}